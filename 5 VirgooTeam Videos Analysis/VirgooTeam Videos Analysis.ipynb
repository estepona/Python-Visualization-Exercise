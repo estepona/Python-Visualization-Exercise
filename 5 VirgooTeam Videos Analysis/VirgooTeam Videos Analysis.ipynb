{
 "cells": [
  {
   "cell_type": "markdown",
   "metadata": {},
   "source": [
    "## Imports"
   ]
  },
  {
   "cell_type": "code",
   "execution_count": 1,
   "metadata": {
    "collapsed": true
   },
   "outputs": [],
   "source": [
    "import pandas as pd\n",
    "import warnings\n",
    "warnings.filterwarnings('ignore')\n",
    "import matplotlib.pyplot as plt\n",
    "%matplotlib inline\n",
    "import seaborn as sns\n",
    "sns.set(style='white', color_codes=True)"
   ]
  },
  {
   "cell_type": "markdown",
   "metadata": {},
   "source": [
    "## Describing Data"
   ]
  },
  {
   "cell_type": "markdown",
   "metadata": {},
   "source": [
    "The dataset is retrieved at April 10, 2017 from [bilibili.com](http://www.bilibili.com/) that describes the information of all videos of [Virgoo Team](http://space.bilibili.com/16693558/#!/video), including: \n",
    "- aid\n",
    "- title\n",
    "- url\n",
    "- date\n",
    "- time\n",
    "- length\n",
    "- play\n",
    "- danmaku (a number)\n",
    "- review\n",
    "- favorites\n",
    "- coin\n",
    "\n",
    "Let's begin"
   ]
  },
  {
   "cell_type": "code",
   "execution_count": 4,
   "metadata": {},
   "outputs": [
    {
     "data": {
      "text/html": [
       "<div>\n",
       "<table border=\"1\" class=\"dataframe\">\n",
       "  <thead>\n",
       "    <tr style=\"text-align: right;\">\n",
       "      <th></th>\n",
       "      <th>aid</th>\n",
       "      <th>title</th>\n",
       "      <th>url</th>\n",
       "      <th>date</th>\n",
       "      <th>time</th>\n",
       "      <th>length</th>\n",
       "      <th>play</th>\n",
       "      <th>danmaku</th>\n",
       "      <th>review</th>\n",
       "      <th>favorites</th>\n",
       "      <th>coin</th>\n",
       "    </tr>\n",
       "  </thead>\n",
       "  <tbody>\n",
       "    <tr>\n",
       "      <th>0</th>\n",
       "      <td>9719223</td>\n",
       "      <td>[喂狗组]《尼尔:机械纪元》VH难度 手撕亚当</td>\n",
       "      <td>http://www.bilibili.com/video/av9719223</td>\n",
       "      <td>2017-04-09</td>\n",
       "      <td>02:07:59</td>\n",
       "      <td>09:46</td>\n",
       "      <td>15834</td>\n",
       "      <td>244</td>\n",
       "      <td>130</td>\n",
       "      <td>180</td>\n",
       "      <td>330</td>\n",
       "    </tr>\n",
       "    <tr>\n",
       "      <th>1</th>\n",
       "      <td>9709649</td>\n",
       "      <td>[喂狗组]拳皇14DLC人物 洛克霍华德 连续技</td>\n",
       "      <td>http://www.bilibili.com/video/av9709649</td>\n",
       "      <td>2017-04-08</td>\n",
       "      <td>15:32:10</td>\n",
       "      <td>01:26</td>\n",
       "      <td>9308</td>\n",
       "      <td>52</td>\n",
       "      <td>79</td>\n",
       "      <td>31</td>\n",
       "      <td>208</td>\n",
       "    </tr>\n",
       "    <tr>\n",
       "      <th>2</th>\n",
       "      <td>9667348</td>\n",
       "      <td>[喂狗组] 黑暗之魂3 DLC2 黑龙邪道100%成功方法教学</td>\n",
       "      <td>http://www.bilibili.com/video/av9667348</td>\n",
       "      <td>2017-04-07</td>\n",
       "      <td>02:44:02</td>\n",
       "      <td>05:43</td>\n",
       "      <td>20618</td>\n",
       "      <td>216</td>\n",
       "      <td>191</td>\n",
       "      <td>180</td>\n",
       "      <td>785</td>\n",
       "    </tr>\n",
       "    <tr>\n",
       "      <th>3</th>\n",
       "      <td>9564681</td>\n",
       "      <td>[喂狗组]《尼尔:机械纪元》最高难度通关攻略2</td>\n",
       "      <td>http://www.bilibili.com/video/av9564681</td>\n",
       "      <td>2017-04-02</td>\n",
       "      <td>13:17:01</td>\n",
       "      <td>37:44</td>\n",
       "      <td>10801</td>\n",
       "      <td>187</td>\n",
       "      <td>120</td>\n",
       "      <td>139</td>\n",
       "      <td>300</td>\n",
       "    </tr>\n",
       "    <tr>\n",
       "      <th>4</th>\n",
       "      <td>9477430</td>\n",
       "      <td>[喂狗组]黑魂3环之都 手撕老贼</td>\n",
       "      <td>http://www.bilibili.com/video/av9477430</td>\n",
       "      <td>2017-03-30</td>\n",
       "      <td>01:31:35</td>\n",
       "      <td>12:27</td>\n",
       "      <td>19963</td>\n",
       "      <td>245</td>\n",
       "      <td>117</td>\n",
       "      <td>71</td>\n",
       "      <td>513</td>\n",
       "    </tr>\n",
       "  </tbody>\n",
       "</table>\n",
       "</div>"
      ],
      "text/plain": [
       "       aid                            title  \\\n",
       "0  9719223          [喂狗组]《尼尔:机械纪元》VH难度 手撕亚当   \n",
       "1  9709649         [喂狗组]拳皇14DLC人物 洛克霍华德 连续技   \n",
       "2  9667348  [喂狗组] 黑暗之魂3 DLC2 黑龙邪道100%成功方法教学   \n",
       "3  9564681          [喂狗组]《尼尔:机械纪元》最高难度通关攻略2   \n",
       "4  9477430                 [喂狗组]黑魂3环之都 手撕老贼   \n",
       "\n",
       "                                       url        date      time length  \\\n",
       "0  http://www.bilibili.com/video/av9719223  2017-04-09  02:07:59  09:46   \n",
       "1  http://www.bilibili.com/video/av9709649  2017-04-08  15:32:10  01:26   \n",
       "2  http://www.bilibili.com/video/av9667348  2017-04-07  02:44:02  05:43   \n",
       "3  http://www.bilibili.com/video/av9564681  2017-04-02  13:17:01  37:44   \n",
       "4  http://www.bilibili.com/video/av9477430  2017-03-30  01:31:35  12:27   \n",
       "\n",
       "    play  danmaku  review  favorites  coin  \n",
       "0  15834      244     130        180   330  \n",
       "1   9308       52      79         31   208  \n",
       "2  20618      216     191        180   785  \n",
       "3  10801      187     120        139   300  \n",
       "4  19963      245     117         71   513  "
      ]
     },
     "execution_count": 4,
     "metadata": {},
     "output_type": "execute_result"
    }
   ],
   "source": [
    "d = pd.read_csv('VirgooTeam_Videos.csv', index_col=0)\n",
    "d.head()"
   ]
  },
  {
   "cell_type": "code",
   "execution_count": 5,
   "metadata": {},
   "outputs": [
    {
     "data": {
      "text/html": [
       "<div>\n",
       "<table border=\"1\" class=\"dataframe\">\n",
       "  <thead>\n",
       "    <tr style=\"text-align: right;\">\n",
       "      <th></th>\n",
       "      <th>aid</th>\n",
       "      <th>play</th>\n",
       "      <th>danmaku</th>\n",
       "      <th>review</th>\n",
       "      <th>favorites</th>\n",
       "      <th>coin</th>\n",
       "    </tr>\n",
       "  </thead>\n",
       "  <tbody>\n",
       "    <tr>\n",
       "      <th>count</th>\n",
       "      <td>1.040000e+02</td>\n",
       "      <td>104.000000</td>\n",
       "      <td>104.000000</td>\n",
       "      <td>104.000000</td>\n",
       "      <td>104.000000</td>\n",
       "      <td>104.000000</td>\n",
       "    </tr>\n",
       "    <tr>\n",
       "      <th>mean</th>\n",
       "      <td>6.709055e+06</td>\n",
       "      <td>27985.153846</td>\n",
       "      <td>693.413462</td>\n",
       "      <td>114.769231</td>\n",
       "      <td>402.826923</td>\n",
       "      <td>651.923077</td>\n",
       "    </tr>\n",
       "    <tr>\n",
       "      <th>std</th>\n",
       "      <td>1.681868e+06</td>\n",
       "      <td>63858.340490</td>\n",
       "      <td>982.399160</td>\n",
       "      <td>218.822455</td>\n",
       "      <td>1447.540763</td>\n",
       "      <td>1412.906092</td>\n",
       "    </tr>\n",
       "    <tr>\n",
       "      <th>min</th>\n",
       "      <td>3.895109e+06</td>\n",
       "      <td>1699.000000</td>\n",
       "      <td>12.000000</td>\n",
       "      <td>5.000000</td>\n",
       "      <td>14.000000</td>\n",
       "      <td>11.000000</td>\n",
       "    </tr>\n",
       "    <tr>\n",
       "      <th>25%</th>\n",
       "      <td>5.201167e+06</td>\n",
       "      <td>7995.750000</td>\n",
       "      <td>149.500000</td>\n",
       "      <td>44.500000</td>\n",
       "      <td>54.750000</td>\n",
       "      <td>167.500000</td>\n",
       "    </tr>\n",
       "    <tr>\n",
       "      <th>50%</th>\n",
       "      <td>6.656832e+06</td>\n",
       "      <td>13887.500000</td>\n",
       "      <td>462.500000</td>\n",
       "      <td>72.500000</td>\n",
       "      <td>93.000000</td>\n",
       "      <td>415.500000</td>\n",
       "    </tr>\n",
       "    <tr>\n",
       "      <th>75%</th>\n",
       "      <td>7.677858e+06</td>\n",
       "      <td>26129.500000</td>\n",
       "      <td>932.500000</td>\n",
       "      <td>117.750000</td>\n",
       "      <td>236.000000</td>\n",
       "      <td>637.250000</td>\n",
       "    </tr>\n",
       "    <tr>\n",
       "      <th>max</th>\n",
       "      <td>9.719223e+06</td>\n",
       "      <td>602971.000000</td>\n",
       "      <td>7634.000000</td>\n",
       "      <td>2127.000000</td>\n",
       "      <td>13598.000000</td>\n",
       "      <td>13063.000000</td>\n",
       "    </tr>\n",
       "  </tbody>\n",
       "</table>\n",
       "</div>"
      ],
      "text/plain": [
       "                aid           play      danmaku       review     favorites  \\\n",
       "count  1.040000e+02     104.000000   104.000000   104.000000    104.000000   \n",
       "mean   6.709055e+06   27985.153846   693.413462   114.769231    402.826923   \n",
       "std    1.681868e+06   63858.340490   982.399160   218.822455   1447.540763   \n",
       "min    3.895109e+06    1699.000000    12.000000     5.000000     14.000000   \n",
       "25%    5.201167e+06    7995.750000   149.500000    44.500000     54.750000   \n",
       "50%    6.656832e+06   13887.500000   462.500000    72.500000     93.000000   \n",
       "75%    7.677858e+06   26129.500000   932.500000   117.750000    236.000000   \n",
       "max    9.719223e+06  602971.000000  7634.000000  2127.000000  13598.000000   \n",
       "\n",
       "               coin  \n",
       "count    104.000000  \n",
       "mean     651.923077  \n",
       "std     1412.906092  \n",
       "min       11.000000  \n",
       "25%      167.500000  \n",
       "50%      415.500000  \n",
       "75%      637.250000  \n",
       "max    13063.000000  "
      ]
     },
     "execution_count": 5,
     "metadata": {},
     "output_type": "execute_result"
    }
   ],
   "source": [
    "d.describe()"
   ]
  },
  {
   "cell_type": "code",
   "execution_count": 6,
   "metadata": {},
   "outputs": [
    {
     "name": "stdout",
     "output_type": "stream",
     "text": [
      "<class 'pandas.core.frame.DataFrame'>\n",
      "Int64Index: 104 entries, 0 to 103\n",
      "Data columns (total 11 columns):\n",
      "aid          104 non-null int64\n",
      "title        104 non-null object\n",
      "url          104 non-null object\n",
      "date         104 non-null object\n",
      "time         104 non-null object\n",
      "length       104 non-null object\n",
      "play         104 non-null int64\n",
      "danmaku      104 non-null int64\n",
      "review       104 non-null int64\n",
      "favorites    104 non-null int64\n",
      "coin         104 non-null int64\n",
      "dtypes: int64(6), object(5)\n",
      "memory usage: 9.8+ KB\n"
     ]
    }
   ],
   "source": [
    "d.info()"
   ]
  },
  {
   "cell_type": "markdown",
   "metadata": {},
   "source": [
    "*no missing value*"
   ]
  },
  {
   "cell_type": "markdown",
   "metadata": {},
   "source": [
    "### Data Cleaning"
   ]
  },
  {
   "cell_type": "markdown",
   "metadata": {},
   "source": [
    "#### Combine date & time"
   ]
  },
  {
   "cell_type": "markdown",
   "metadata": {},
   "source": [
    "And change the time from EST to UTC+08:00 (Chinese time) so that the datetime reflects actual time when Virgoo Team released the videos. And easier to do calculations."
   ]
  },
  {
   "cell_type": "code",
   "execution_count": 10,
   "metadata": {},
   "outputs": [
    {
     "data": {
      "text/html": [
       "<div>\n",
       "<table border=\"1\" class=\"dataframe\">\n",
       "  <thead>\n",
       "    <tr style=\"text-align: right;\">\n",
       "      <th></th>\n",
       "      <th>aid</th>\n",
       "      <th>title</th>\n",
       "      <th>url</th>\n",
       "      <th>date</th>\n",
       "      <th>time</th>\n",
       "      <th>length</th>\n",
       "      <th>play</th>\n",
       "      <th>danmaku</th>\n",
       "      <th>review</th>\n",
       "      <th>favorites</th>\n",
       "      <th>coin</th>\n",
       "      <th>datetime</th>\n",
       "    </tr>\n",
       "  </thead>\n",
       "  <tbody>\n",
       "    <tr>\n",
       "      <th>0</th>\n",
       "      <td>9719223</td>\n",
       "      <td>[喂狗组]《尼尔:机械纪元》VH难度 手撕亚当</td>\n",
       "      <td>http://www.bilibili.com/video/av9719223</td>\n",
       "      <td>2017-04-09</td>\n",
       "      <td>02:07:59</td>\n",
       "      <td>09:46</td>\n",
       "      <td>15834</td>\n",
       "      <td>244</td>\n",
       "      <td>130</td>\n",
       "      <td>180</td>\n",
       "      <td>330</td>\n",
       "      <td>2017-04-09 02:07:59</td>\n",
       "    </tr>\n",
       "    <tr>\n",
       "      <th>1</th>\n",
       "      <td>9709649</td>\n",
       "      <td>[喂狗组]拳皇14DLC人物 洛克霍华德 连续技</td>\n",
       "      <td>http://www.bilibili.com/video/av9709649</td>\n",
       "      <td>2017-04-08</td>\n",
       "      <td>15:32:10</td>\n",
       "      <td>01:26</td>\n",
       "      <td>9308</td>\n",
       "      <td>52</td>\n",
       "      <td>79</td>\n",
       "      <td>31</td>\n",
       "      <td>208</td>\n",
       "      <td>2017-04-08 15:32:10</td>\n",
       "    </tr>\n",
       "    <tr>\n",
       "      <th>2</th>\n",
       "      <td>9667348</td>\n",
       "      <td>[喂狗组] 黑暗之魂3 DLC2 黑龙邪道100%成功方法教学</td>\n",
       "      <td>http://www.bilibili.com/video/av9667348</td>\n",
       "      <td>2017-04-07</td>\n",
       "      <td>02:44:02</td>\n",
       "      <td>05:43</td>\n",
       "      <td>20618</td>\n",
       "      <td>216</td>\n",
       "      <td>191</td>\n",
       "      <td>180</td>\n",
       "      <td>785</td>\n",
       "      <td>2017-04-07 02:44:02</td>\n",
       "    </tr>\n",
       "    <tr>\n",
       "      <th>3</th>\n",
       "      <td>9564681</td>\n",
       "      <td>[喂狗组]《尼尔:机械纪元》最高难度通关攻略2</td>\n",
       "      <td>http://www.bilibili.com/video/av9564681</td>\n",
       "      <td>2017-04-02</td>\n",
       "      <td>13:17:01</td>\n",
       "      <td>37:44</td>\n",
       "      <td>10801</td>\n",
       "      <td>187</td>\n",
       "      <td>120</td>\n",
       "      <td>139</td>\n",
       "      <td>300</td>\n",
       "      <td>2017-04-02 13:17:01</td>\n",
       "    </tr>\n",
       "    <tr>\n",
       "      <th>4</th>\n",
       "      <td>9477430</td>\n",
       "      <td>[喂狗组]黑魂3环之都 手撕老贼</td>\n",
       "      <td>http://www.bilibili.com/video/av9477430</td>\n",
       "      <td>2017-03-30</td>\n",
       "      <td>01:31:35</td>\n",
       "      <td>12:27</td>\n",
       "      <td>19963</td>\n",
       "      <td>245</td>\n",
       "      <td>117</td>\n",
       "      <td>71</td>\n",
       "      <td>513</td>\n",
       "      <td>2017-03-30 01:31:35</td>\n",
       "    </tr>\n",
       "  </tbody>\n",
       "</table>\n",
       "</div>"
      ],
      "text/plain": [
       "       aid                            title  \\\n",
       "0  9719223          [喂狗组]《尼尔:机械纪元》VH难度 手撕亚当   \n",
       "1  9709649         [喂狗组]拳皇14DLC人物 洛克霍华德 连续技   \n",
       "2  9667348  [喂狗组] 黑暗之魂3 DLC2 黑龙邪道100%成功方法教学   \n",
       "3  9564681          [喂狗组]《尼尔:机械纪元》最高难度通关攻略2   \n",
       "4  9477430                 [喂狗组]黑魂3环之都 手撕老贼   \n",
       "\n",
       "                                       url        date      time length  \\\n",
       "0  http://www.bilibili.com/video/av9719223  2017-04-09  02:07:59  09:46   \n",
       "1  http://www.bilibili.com/video/av9709649  2017-04-08  15:32:10  01:26   \n",
       "2  http://www.bilibili.com/video/av9667348  2017-04-07  02:44:02  05:43   \n",
       "3  http://www.bilibili.com/video/av9564681  2017-04-02  13:17:01  37:44   \n",
       "4  http://www.bilibili.com/video/av9477430  2017-03-30  01:31:35  12:27   \n",
       "\n",
       "    play  danmaku  review  favorites  coin             datetime  \n",
       "0  15834      244     130        180   330  2017-04-09 02:07:59  \n",
       "1   9308       52      79         31   208  2017-04-08 15:32:10  \n",
       "2  20618      216     191        180   785  2017-04-07 02:44:02  \n",
       "3  10801      187     120        139   300  2017-04-02 13:17:01  \n",
       "4  19963      245     117         71   513  2017-03-30 01:31:35  "
      ]
     },
     "execution_count": 10,
     "metadata": {},
     "output_type": "execute_result"
    }
   ],
   "source": [
    "d['datetime'] = d['date'] + ' ' + d['time']\n",
    "d.head()"
   ]
  },
  {
   "cell_type": "code",
   "execution_count": 11,
   "metadata": {},
   "outputs": [
    {
     "data": {
      "text/html": [
       "<div>\n",
       "<table border=\"1\" class=\"dataframe\">\n",
       "  <thead>\n",
       "    <tr style=\"text-align: right;\">\n",
       "      <th></th>\n",
       "      <th>aid</th>\n",
       "      <th>title</th>\n",
       "      <th>url</th>\n",
       "      <th>length</th>\n",
       "      <th>play</th>\n",
       "      <th>danmaku</th>\n",
       "      <th>review</th>\n",
       "      <th>favorites</th>\n",
       "      <th>coin</th>\n",
       "      <th>datetime</th>\n",
       "    </tr>\n",
       "  </thead>\n",
       "  <tbody>\n",
       "    <tr>\n",
       "      <th>0</th>\n",
       "      <td>9719223</td>\n",
       "      <td>[喂狗组]《尼尔:机械纪元》VH难度 手撕亚当</td>\n",
       "      <td>http://www.bilibili.com/video/av9719223</td>\n",
       "      <td>09:46</td>\n",
       "      <td>15834</td>\n",
       "      <td>244</td>\n",
       "      <td>130</td>\n",
       "      <td>180</td>\n",
       "      <td>330</td>\n",
       "      <td>2017-04-09 02:07:59</td>\n",
       "    </tr>\n",
       "    <tr>\n",
       "      <th>1</th>\n",
       "      <td>9709649</td>\n",
       "      <td>[喂狗组]拳皇14DLC人物 洛克霍华德 连续技</td>\n",
       "      <td>http://www.bilibili.com/video/av9709649</td>\n",
       "      <td>01:26</td>\n",
       "      <td>9308</td>\n",
       "      <td>52</td>\n",
       "      <td>79</td>\n",
       "      <td>31</td>\n",
       "      <td>208</td>\n",
       "      <td>2017-04-08 15:32:10</td>\n",
       "    </tr>\n",
       "    <tr>\n",
       "      <th>2</th>\n",
       "      <td>9667348</td>\n",
       "      <td>[喂狗组] 黑暗之魂3 DLC2 黑龙邪道100%成功方法教学</td>\n",
       "      <td>http://www.bilibili.com/video/av9667348</td>\n",
       "      <td>05:43</td>\n",
       "      <td>20618</td>\n",
       "      <td>216</td>\n",
       "      <td>191</td>\n",
       "      <td>180</td>\n",
       "      <td>785</td>\n",
       "      <td>2017-04-07 02:44:02</td>\n",
       "    </tr>\n",
       "    <tr>\n",
       "      <th>3</th>\n",
       "      <td>9564681</td>\n",
       "      <td>[喂狗组]《尼尔:机械纪元》最高难度通关攻略2</td>\n",
       "      <td>http://www.bilibili.com/video/av9564681</td>\n",
       "      <td>37:44</td>\n",
       "      <td>10801</td>\n",
       "      <td>187</td>\n",
       "      <td>120</td>\n",
       "      <td>139</td>\n",
       "      <td>300</td>\n",
       "      <td>2017-04-02 13:17:01</td>\n",
       "    </tr>\n",
       "    <tr>\n",
       "      <th>4</th>\n",
       "      <td>9477430</td>\n",
       "      <td>[喂狗组]黑魂3环之都 手撕老贼</td>\n",
       "      <td>http://www.bilibili.com/video/av9477430</td>\n",
       "      <td>12:27</td>\n",
       "      <td>19963</td>\n",
       "      <td>245</td>\n",
       "      <td>117</td>\n",
       "      <td>71</td>\n",
       "      <td>513</td>\n",
       "      <td>2017-03-30 01:31:35</td>\n",
       "    </tr>\n",
       "  </tbody>\n",
       "</table>\n",
       "</div>"
      ],
      "text/plain": [
       "       aid                            title  \\\n",
       "0  9719223          [喂狗组]《尼尔:机械纪元》VH难度 手撕亚当   \n",
       "1  9709649         [喂狗组]拳皇14DLC人物 洛克霍华德 连续技   \n",
       "2  9667348  [喂狗组] 黑暗之魂3 DLC2 黑龙邪道100%成功方法教学   \n",
       "3  9564681          [喂狗组]《尼尔:机械纪元》最高难度通关攻略2   \n",
       "4  9477430                 [喂狗组]黑魂3环之都 手撕老贼   \n",
       "\n",
       "                                       url length   play  danmaku  review  \\\n",
       "0  http://www.bilibili.com/video/av9719223  09:46  15834      244     130   \n",
       "1  http://www.bilibili.com/video/av9709649  01:26   9308       52      79   \n",
       "2  http://www.bilibili.com/video/av9667348  05:43  20618      216     191   \n",
       "3  http://www.bilibili.com/video/av9564681  37:44  10801      187     120   \n",
       "4  http://www.bilibili.com/video/av9477430  12:27  19963      245     117   \n",
       "\n",
       "   favorites  coin             datetime  \n",
       "0        180   330  2017-04-09 02:07:59  \n",
       "1         31   208  2017-04-08 15:32:10  \n",
       "2        180   785  2017-04-07 02:44:02  \n",
       "3        139   300  2017-04-02 13:17:01  \n",
       "4         71   513  2017-03-30 01:31:35  "
      ]
     },
     "execution_count": 11,
     "metadata": {},
     "output_type": "execute_result"
    }
   ],
   "source": [
    "d = d.drop(['date', 'time'],1)\n",
    "d.head()"
   ]
  },
  {
   "cell_type": "code",
   "execution_count": 12,
   "metadata": {},
   "outputs": [
    {
     "data": {
      "text/html": [
       "<div>\n",
       "<table border=\"1\" class=\"dataframe\">\n",
       "  <thead>\n",
       "    <tr style=\"text-align: right;\">\n",
       "      <th></th>\n",
       "      <th>aid</th>\n",
       "      <th>title</th>\n",
       "      <th>url</th>\n",
       "      <th>length</th>\n",
       "      <th>play</th>\n",
       "      <th>danmaku</th>\n",
       "      <th>review</th>\n",
       "      <th>favorites</th>\n",
       "      <th>coin</th>\n",
       "      <th>datetime</th>\n",
       "    </tr>\n",
       "  </thead>\n",
       "  <tbody>\n",
       "    <tr>\n",
       "      <th>0</th>\n",
       "      <td>9719223</td>\n",
       "      <td>[喂狗组]《尼尔:机械纪元》VH难度 手撕亚当</td>\n",
       "      <td>http://www.bilibili.com/video/av9719223</td>\n",
       "      <td>09:46</td>\n",
       "      <td>15834</td>\n",
       "      <td>244</td>\n",
       "      <td>130</td>\n",
       "      <td>180</td>\n",
       "      <td>330</td>\n",
       "      <td>2017-04-09 02:07:59</td>\n",
       "    </tr>\n",
       "    <tr>\n",
       "      <th>1</th>\n",
       "      <td>9709649</td>\n",
       "      <td>[喂狗组]拳皇14DLC人物 洛克霍华德 连续技</td>\n",
       "      <td>http://www.bilibili.com/video/av9709649</td>\n",
       "      <td>01:26</td>\n",
       "      <td>9308</td>\n",
       "      <td>52</td>\n",
       "      <td>79</td>\n",
       "      <td>31</td>\n",
       "      <td>208</td>\n",
       "      <td>2017-04-08 15:32:10</td>\n",
       "    </tr>\n",
       "    <tr>\n",
       "      <th>2</th>\n",
       "      <td>9667348</td>\n",
       "      <td>[喂狗组] 黑暗之魂3 DLC2 黑龙邪道100%成功方法教学</td>\n",
       "      <td>http://www.bilibili.com/video/av9667348</td>\n",
       "      <td>05:43</td>\n",
       "      <td>20618</td>\n",
       "      <td>216</td>\n",
       "      <td>191</td>\n",
       "      <td>180</td>\n",
       "      <td>785</td>\n",
       "      <td>2017-04-07 02:44:02</td>\n",
       "    </tr>\n",
       "    <tr>\n",
       "      <th>3</th>\n",
       "      <td>9564681</td>\n",
       "      <td>[喂狗组]《尼尔:机械纪元》最高难度通关攻略2</td>\n",
       "      <td>http://www.bilibili.com/video/av9564681</td>\n",
       "      <td>37:44</td>\n",
       "      <td>10801</td>\n",
       "      <td>187</td>\n",
       "      <td>120</td>\n",
       "      <td>139</td>\n",
       "      <td>300</td>\n",
       "      <td>2017-04-02 13:17:01</td>\n",
       "    </tr>\n",
       "    <tr>\n",
       "      <th>4</th>\n",
       "      <td>9477430</td>\n",
       "      <td>[喂狗组]黑魂3环之都 手撕老贼</td>\n",
       "      <td>http://www.bilibili.com/video/av9477430</td>\n",
       "      <td>12:27</td>\n",
       "      <td>19963</td>\n",
       "      <td>245</td>\n",
       "      <td>117</td>\n",
       "      <td>71</td>\n",
       "      <td>513</td>\n",
       "      <td>2017-03-30 01:31:35</td>\n",
       "    </tr>\n",
       "  </tbody>\n",
       "</table>\n",
       "</div>"
      ],
      "text/plain": [
       "       aid                            title  \\\n",
       "0  9719223          [喂狗组]《尼尔:机械纪元》VH难度 手撕亚当   \n",
       "1  9709649         [喂狗组]拳皇14DLC人物 洛克霍华德 连续技   \n",
       "2  9667348  [喂狗组] 黑暗之魂3 DLC2 黑龙邪道100%成功方法教学   \n",
       "3  9564681          [喂狗组]《尼尔:机械纪元》最高难度通关攻略2   \n",
       "4  9477430                 [喂狗组]黑魂3环之都 手撕老贼   \n",
       "\n",
       "                                       url length   play  danmaku  review  \\\n",
       "0  http://www.bilibili.com/video/av9719223  09:46  15834      244     130   \n",
       "1  http://www.bilibili.com/video/av9709649  01:26   9308       52      79   \n",
       "2  http://www.bilibili.com/video/av9667348  05:43  20618      216     191   \n",
       "3  http://www.bilibili.com/video/av9564681  37:44  10801      187     120   \n",
       "4  http://www.bilibili.com/video/av9477430  12:27  19963      245     117   \n",
       "\n",
       "   favorites  coin            datetime  \n",
       "0        180   330 2017-04-09 02:07:59  \n",
       "1         31   208 2017-04-08 15:32:10  \n",
       "2        180   785 2017-04-07 02:44:02  \n",
       "3        139   300 2017-04-02 13:17:01  \n",
       "4         71   513 2017-03-30 01:31:35  "
      ]
     },
     "execution_count": 12,
     "metadata": {},
     "output_type": "execute_result"
    }
   ],
   "source": [
    "d['datetime'] = pd.to_datetime(d['datetime'])\n",
    "d.head()"
   ]
  },
  {
   "cell_type": "code",
   "execution_count": 14,
   "metadata": {},
   "outputs": [
    {
     "name": "stdout",
     "output_type": "stream",
     "text": [
      "<class 'pandas.core.frame.DataFrame'>\n",
      "Int64Index: 104 entries, 0 to 103\n",
      "Data columns (total 10 columns):\n",
      "aid          104 non-null int64\n",
      "title        104 non-null object\n",
      "url          104 non-null object\n",
      "length       104 non-null object\n",
      "play         104 non-null int64\n",
      "danmaku      104 non-null int64\n",
      "review       104 non-null int64\n",
      "favorites    104 non-null int64\n",
      "coin         104 non-null int64\n",
      "datetime     104 non-null datetime64[ns]\n",
      "dtypes: datetime64[ns](1), int64(6), object(3)\n",
      "memory usage: 8.9+ KB\n"
     ]
    }
   ],
   "source": [
    "d.info()"
   ]
  },
  {
   "cell_type": "code",
   "execution_count": 15,
   "metadata": {},
   "outputs": [
    {
     "data": {
      "text/plain": [
       "Timedelta('0 days 12:00:00')"
      ]
     },
     "execution_count": 15,
     "metadata": {},
     "output_type": "execute_result"
    }
   ],
   "source": [
    "pd.Timedelta('12 hours')"
   ]
  },
  {
   "cell_type": "code",
   "execution_count": 16,
   "metadata": {},
   "outputs": [
    {
     "data": {
      "text/html": [
       "<div>\n",
       "<table border=\"1\" class=\"dataframe\">\n",
       "  <thead>\n",
       "    <tr style=\"text-align: right;\">\n",
       "      <th></th>\n",
       "      <th>aid</th>\n",
       "      <th>title</th>\n",
       "      <th>url</th>\n",
       "      <th>length</th>\n",
       "      <th>play</th>\n",
       "      <th>danmaku</th>\n",
       "      <th>review</th>\n",
       "      <th>favorites</th>\n",
       "      <th>coin</th>\n",
       "      <th>datetime</th>\n",
       "    </tr>\n",
       "  </thead>\n",
       "  <tbody>\n",
       "    <tr>\n",
       "      <th>0</th>\n",
       "      <td>9719223</td>\n",
       "      <td>[喂狗组]《尼尔:机械纪元》VH难度 手撕亚当</td>\n",
       "      <td>http://www.bilibili.com/video/av9719223</td>\n",
       "      <td>09:46</td>\n",
       "      <td>15834</td>\n",
       "      <td>244</td>\n",
       "      <td>130</td>\n",
       "      <td>180</td>\n",
       "      <td>330</td>\n",
       "      <td>2017-04-09 14:07:59</td>\n",
       "    </tr>\n",
       "    <tr>\n",
       "      <th>1</th>\n",
       "      <td>9709649</td>\n",
       "      <td>[喂狗组]拳皇14DLC人物 洛克霍华德 连续技</td>\n",
       "      <td>http://www.bilibili.com/video/av9709649</td>\n",
       "      <td>01:26</td>\n",
       "      <td>9308</td>\n",
       "      <td>52</td>\n",
       "      <td>79</td>\n",
       "      <td>31</td>\n",
       "      <td>208</td>\n",
       "      <td>2017-04-09 03:32:10</td>\n",
       "    </tr>\n",
       "    <tr>\n",
       "      <th>2</th>\n",
       "      <td>9667348</td>\n",
       "      <td>[喂狗组] 黑暗之魂3 DLC2 黑龙邪道100%成功方法教学</td>\n",
       "      <td>http://www.bilibili.com/video/av9667348</td>\n",
       "      <td>05:43</td>\n",
       "      <td>20618</td>\n",
       "      <td>216</td>\n",
       "      <td>191</td>\n",
       "      <td>180</td>\n",
       "      <td>785</td>\n",
       "      <td>2017-04-07 14:44:02</td>\n",
       "    </tr>\n",
       "    <tr>\n",
       "      <th>3</th>\n",
       "      <td>9564681</td>\n",
       "      <td>[喂狗组]《尼尔:机械纪元》最高难度通关攻略2</td>\n",
       "      <td>http://www.bilibili.com/video/av9564681</td>\n",
       "      <td>37:44</td>\n",
       "      <td>10801</td>\n",
       "      <td>187</td>\n",
       "      <td>120</td>\n",
       "      <td>139</td>\n",
       "      <td>300</td>\n",
       "      <td>2017-04-03 01:17:01</td>\n",
       "    </tr>\n",
       "    <tr>\n",
       "      <th>4</th>\n",
       "      <td>9477430</td>\n",
       "      <td>[喂狗组]黑魂3环之都 手撕老贼</td>\n",
       "      <td>http://www.bilibili.com/video/av9477430</td>\n",
       "      <td>12:27</td>\n",
       "      <td>19963</td>\n",
       "      <td>245</td>\n",
       "      <td>117</td>\n",
       "      <td>71</td>\n",
       "      <td>513</td>\n",
       "      <td>2017-03-30 13:31:35</td>\n",
       "    </tr>\n",
       "  </tbody>\n",
       "</table>\n",
       "</div>"
      ],
      "text/plain": [
       "       aid                            title  \\\n",
       "0  9719223          [喂狗组]《尼尔:机械纪元》VH难度 手撕亚当   \n",
       "1  9709649         [喂狗组]拳皇14DLC人物 洛克霍华德 连续技   \n",
       "2  9667348  [喂狗组] 黑暗之魂3 DLC2 黑龙邪道100%成功方法教学   \n",
       "3  9564681          [喂狗组]《尼尔:机械纪元》最高难度通关攻略2   \n",
       "4  9477430                 [喂狗组]黑魂3环之都 手撕老贼   \n",
       "\n",
       "                                       url length   play  danmaku  review  \\\n",
       "0  http://www.bilibili.com/video/av9719223  09:46  15834      244     130   \n",
       "1  http://www.bilibili.com/video/av9709649  01:26   9308       52      79   \n",
       "2  http://www.bilibili.com/video/av9667348  05:43  20618      216     191   \n",
       "3  http://www.bilibili.com/video/av9564681  37:44  10801      187     120   \n",
       "4  http://www.bilibili.com/video/av9477430  12:27  19963      245     117   \n",
       "\n",
       "   favorites  coin            datetime  \n",
       "0        180   330 2017-04-09 14:07:59  \n",
       "1         31   208 2017-04-09 03:32:10  \n",
       "2        180   785 2017-04-07 14:44:02  \n",
       "3        139   300 2017-04-03 01:17:01  \n",
       "4         71   513 2017-03-30 13:31:35  "
      ]
     },
     "execution_count": 16,
     "metadata": {},
     "output_type": "execute_result"
    }
   ],
   "source": [
    "d['datetime'] = d['datetime'] + pd.Timedelta('12 hours')\n",
    "d.head()"
   ]
  },
  {
   "cell_type": "markdown",
   "metadata": {},
   "source": [
    "*This is the exact time we want*"
   ]
  },
  {
   "cell_type": "markdown",
   "metadata": {},
   "source": [
    "#### Convert length to seconds (s)"
   ]
  },
  {
   "cell_type": "code",
   "execution_count": 19,
   "metadata": {
    "collapsed": true
   },
   "outputs": [],
   "source": [
    "aa = '09:46'"
   ]
  },
  {
   "cell_type": "code",
   "execution_count": 20,
   "metadata": {},
   "outputs": [
    {
     "data": {
      "text/plain": [
       "['09', '46']"
      ]
     },
     "execution_count": 20,
     "metadata": {},
     "output_type": "execute_result"
    }
   ],
   "source": [
    "aa.split(':')"
   ]
  },
  {
   "cell_type": "code",
   "execution_count": 21,
   "metadata": {},
   "outputs": [
    {
     "data": {
      "text/plain": [
       "'46'"
      ]
     },
     "execution_count": 21,
     "metadata": {},
     "output_type": "execute_result"
    }
   ],
   "source": [
    "aa.split(':')[-1]"
   ]
  },
  {
   "cell_type": "code",
   "execution_count": 22,
   "metadata": {},
   "outputs": [
    {
     "data": {
      "text/plain": [
       "str"
      ]
     },
     "execution_count": 22,
     "metadata": {},
     "output_type": "execute_result"
    }
   ],
   "source": [
    "type(aa.split(':')[-1])"
   ]
  },
  {
   "cell_type": "code",
   "execution_count": 23,
   "metadata": {},
   "outputs": [
    {
     "data": {
      "text/plain": [
       "586"
      ]
     },
     "execution_count": 23,
     "metadata": {},
     "output_type": "execute_result"
    }
   ],
   "source": [
    "int(aa.split(':')[-1]) + int(aa.split(':')[-2])*60"
   ]
  },
  {
   "cell_type": "code",
   "execution_count": null,
   "metadata": {
    "collapsed": true
   },
   "outputs": [],
   "source": []
  }
 ],
 "metadata": {
  "kernelspec": {
   "display_name": "Python 3",
   "language": "python",
   "name": "python3"
  },
  "language_info": {
   "codemirror_mode": {
    "name": "ipython",
    "version": 3
   },
   "file_extension": ".py",
   "mimetype": "text/x-python",
   "name": "python",
   "nbconvert_exporter": "python",
   "pygments_lexer": "ipython3",
   "version": "3.6.0"
  }
 },
 "nbformat": 4,
 "nbformat_minor": 2
}
